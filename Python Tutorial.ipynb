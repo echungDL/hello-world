{
 "cells": [
  {
   "cell_type": "markdown",
   "metadata": {},
   "source": [
    "# Variable types"
   ]
  },
  {
   "cell_type": "code",
   "execution_count": null,
   "metadata": {},
   "outputs": [],
   "source": [
    "price = 10 #integer\n",
    "price = 20\n",
    "rating = 4.9 #float\n",
    "name = 'Mosh' #string\n",
    "is_published = False #Python is case sensitive aka distinguishes between lower and upper case letters"
   ]
  },
  {
   "cell_type": "markdown",
   "metadata": {},
   "source": [
    " ### Mini Homework 1\n",
    " We check in a patient named John Smith. He's 20 years old and is new patient. Give them variables"
   ]
  },
  {
   "cell_type": "code",
   "execution_count": null,
   "metadata": {},
   "outputs": [],
   "source": [
    "name = 'John Smith'\n",
    "age = 20\n",
    "is_new_patient = True"
   ]
  },
  {
   "cell_type": "markdown",
   "metadata": {},
   "source": [
    "# Read and print"
   ]
  },
  {
   "cell_type": "code",
   "execution_count": null,
   "metadata": {},
   "outputs": [],
   "source": [
    "name = input('What is your name? ') #via input function saves input in variable and printed out. Space for looks\n",
    "print('Hi ' + name)"
   ]
  },
  {
   "cell_type": "markdown",
   "metadata": {},
   "source": [
    " ### Mini Homework 2\n",
    " Ask two questions: person's name and favorite color. Then, print a message like \"Mosh likes blue\""
   ]
  },
  {
   "cell_type": "code",
   "execution_count": null,
   "metadata": {},
   "outputs": [],
   "source": [
    "color = input ('What is your favorite color? ')\n",
    "name = input ('So what was your name again? ')\n",
    "print('Hey ' + name + ' so your favorite color is ' + color)"
   ]
  },
  {
   "cell_type": "markdown",
   "metadata": {},
   "source": [
    "# Conversion of Variable types"
   ]
  },
  {
   "cell_type": "code",
   "execution_count": null,
   "metadata": {},
   "outputs": [],
   "source": [
    "#int()\n",
    "#string()\n",
    "#boolean()\n",
    "#float()\n",
    "\n",
    "birth_year = int(input('Birth year: ')) # everything typed into a terminal is always treated as a string! NEED to convert.\n",
    "                                    #same as birthyear = '1993'\n",
    "print (type(birth_year))\n",
    "age = 2019 - birth_year\n",
    "print (age)"
   ]
  },
  {
   "cell_type": "markdown",
   "metadata": {},
   "source": [
    " ### Mini Homework 3\n",
    " Ask a user their weight (in pounds), convert it to kilograms and print on the terminal"
   ]
  },
  {
   "cell_type": "code",
   "execution_count": null,
   "metadata": {},
   "outputs": [],
   "source": [
    "weight_pd = float(input('Enter your weight (pounds): '))\n",
    "print(type(weight_pd))\n",
    "weight_kg = weight_pd * 0.4535\n",
    "print(type(weight_kg))\n",
    "weight_pd = str(weight_pd)\n",
    "weight_kg = str(weight_kg)\n",
    "print('Your weight in pounds is ' + weight_pd + ' and your weight in kilo is ' + weight_kg)"
   ]
  },
  {
   "cell_type": "markdown",
   "metadata": {},
   "source": [
    "#### String conversion and string arrays"
   ]
  },
  {
   "cell_type": "code",
   "execution_count": null,
   "metadata": {},
   "outputs": [],
   "source": [
    "course = 'This shows how strings are indexed' #as 0,1,2,3,4,5......\n",
    "another = course[:]\n",
    "print(course[0])\n",
    "print(course[-1]) #first character from the end\n",
    "print(course[5])\n",
    "print(course[0:4]) # starts at 0 till 3\n",
    "print(course[0:]) # starts at 0 till end\n",
    "print(course[:4]) # starts at 0, (python assumes) till end"
   ]
  },
  {
   "cell_type": "code",
   "execution_count": null,
   "metadata": {},
   "outputs": [],
   "source": [
    "# Minitest\n",
    "name = 'Jeniffer'\n",
    "print(name[1:-1])"
   ]
  },
  {
   "cell_type": "markdown",
   "metadata": {},
   "source": [
    "#### Formatted Strings\n",
    "\n",
    "useful where dynamically generate tags with variables. makes it easier to visualize output. Use f' to start of and curly brackets to insert values in the string."
   ]
  },
  {
   "cell_type": "code",
   "execution_count": null,
   "metadata": {},
   "outputs": [],
   "source": [
    "first = 'John'\n",
    "last = 'Smith'\n",
    "message = f'{first} [{last}] is a coder'\n",
    "print(message)"
   ]
  },
  {
   "cell_type": "markdown",
   "metadata": {},
   "source": [
    "#### String Methods"
   ]
  },
  {
   "cell_type": "code",
   "execution_count": null,
   "metadata": {},
   "outputs": [],
   "source": [
    "course = 'Python for Beginners'\n",
    "print(len(course)) #len function GENERAL PURPOSE (dont belong to anything) counting tool e.g. checks characters in string or number of items in arrays/list.\n",
    "\n",
    "print(course.upper()) #upper is method as it belongs to string, does not modify! creates new string\n",
    "print(course.lower())\n",
    "print(course)\n",
    "print(course.find('o')) #get index where there is o in course\n",
    "print(course.find('Beginner')) #get index where there is Beginner, gives index where it starts \n",
    "print(course.replace('Beginner', 'Dummies')) #replacing word with other word\n",
    "print('Python' in course) #expression creates boolean, difference to find operator is index and boolean"
   ]
  },
  {
   "cell_type": "markdown",
   "metadata": {},
   "source": [
    "# Arithmetic operators"
   ]
  },
  {
   "cell_type": "code",
   "execution_count": null,
   "metadata": {},
   "outputs": [],
   "source": [
    "# +,-,* = same\n",
    "print(10/3) #usuakl float\n",
    "print(10//3) #as integer\n",
    "print(10%3) #Rest\n",
    "print(10 **3) #10³\n",
    "\n",
    "x=10\n",
    "x +=3 #= x=x+3 same for -"
   ]
  },
  {
   "cell_type": "markdown",
   "metadata": {},
   "source": [
    "#### Math Methods"
   ]
  },
  {
   "cell_type": "code",
   "execution_count": null,
   "metadata": {},
   "outputs": [],
   "source": [
    "import math #now acces math methods via dot operator\n",
    "\n",
    "x = 2.9\n",
    "print(round(x))\n",
    "print(abs(x)) #always positiv\n",
    "print(math.ceil(2.9))"
   ]
  },
  {
   "cell_type": "markdown",
   "metadata": {},
   "source": [
    "# if operators"
   ]
  },
  {
   "cell_type": "code",
   "execution_count": null,
   "metadata": {},
   "outputs": [],
   "source": [
    "age = int(input('How old are you?:'))\n",
    "\n",
    "if age <= 4:\n",
    "    print('Too young for that shit')\n",
    "elif age >= 70:\n",
    "    print('Too old for that shit')\n",
    "else:\n",
    "    print('fine you can go')"
   ]
  },
  {
   "cell_type": "markdown",
   "metadata": {},
   "source": [
    " ### Mini Homework 4\n",
    "Price of a house is 1Mil, if buyer has good credit, they need to put down 10%. if bad 20%. Print payment"
   ]
  },
  {
   "cell_type": "code",
   "execution_count": null,
   "metadata": {},
   "outputs": [],
   "source": [
    "money = int(input('How is your credit?'))\n",
    "\n",
    "if money >= 200000:\n",
    "    payment = money * 0.1\n",
    "    payment = str(payment)\n",
    "    print('You have good credit. Payment will be 10 % only. This is ' + payment)\n",
    "else:\n",
    "    payment = money * 0.2\n",
    "    payment = str(payment)\n",
    "    print('You have bad credit. Payment will be 20%. This is ' + payment)\n"
   ]
  },
  {
   "cell_type": "code",
   "execution_count": null,
   "metadata": {},
   "outputs": [],
   "source": [
    "has_high_income = True\n",
    "has_good_credit = False\n",
    "if has_high_income and not has_good_credit: #and, or, not: change the falso to true and vice versa\n",
    "    print(\"Eligible for loan\")"
   ]
  },
  {
   "cell_type": "markdown",
   "metadata": {},
   "source": [
    "# comparison operators"
   ]
  },
  {
   "cell_type": "markdown",
   "metadata": {},
   "source": [
    "Task: if name is less than 3 characters long names must be at least 3 characters. otherweise if its more than 50 character . name max 50 otherweise all good"
   ]
  },
  {
   "cell_type": "code",
   "execution_count": null,
   "metadata": {},
   "outputs": [],
   "source": [
    "name = input('Whats your name? ')\n",
    "print(len(name))\n",
    "if len(name) < 3:\n",
    "    print(\"Name must be at least 3 characters\")\n",
    "elif len(name) > 50:\n",
    "    print(\"Name can be a maximum of 50 characters\")\n",
    "else: \n",
    "    print(\"name looks good!\")\n",
    "    \n"
   ]
  },
  {
   "cell_type": "code",
   "execution_count": null,
   "metadata": {},
   "outputs": [],
   "source": [
    "## Another Mini Homework asking weight then whether value is in kg or lbs and convert to other unit\n",
    "\n",
    "weight = int(input('What your weight? '))\n",
    "unit = input('(l)bs or (k)g: ')\n",
    "if unit == 'k' or 'K': #making it case sensitive or make it if unit.upper() == \"L\"\n",
    "    weight *= 2.20462\n",
    "    print(weight)\n",
    "elif unit == 'l' or 'L':\n",
    "    weight *= 0.4535\n",
    "    print(weight)\n",
    "else:\n",
    "    print('invalid input!')\n",
    "    \n"
   ]
  },
  {
   "cell_type": "markdown",
   "metadata": {},
   "source": [
    "# While operator"
   ]
  },
  {
   "cell_type": "code",
   "execution_count": null,
   "metadata": {},
   "outputs": [],
   "source": [
    "i = 1\n",
    "while i <= 5:\n",
    "    print('*' * i)\n",
    "    i += 1\n",
    "print('Finito')    "
   ]
  },
  {
   "cell_type": "code",
   "execution_count": null,
   "metadata": {},
   "outputs": [],
   "source": [
    "#mini homework Guess a number between 0-10. with 3 trys and hinting higher or lower.\n",
    "\n",
    "import random as r\n",
    "\n",
    "number = r.randrange(10)\n",
    "guess_count = 1\n",
    "guess_limit = 3\n",
    "\n",
    "while guess_count <= guess_limit:\n",
    "    \n",
    "    guess = int(input('Guess a number between 0-10: ')) #only works with numbers\n",
    "    \n",
    "    if guess < number:\n",
    "        print('Number is higher up!')\n",
    "        guess_count += 1\n",
    "        j = 3 - (guess_count - 1) #indicate how many trys left\n",
    "        print(f'{j} try(s) left!')\n",
    "    elif guess > number:\n",
    "        print('Number is on the lower side!')\n",
    "        guess_count  += 1\n",
    "        j = 3 - (guess_count  - 1) #indicate how many trys left\n",
    "        print(f'{j} try(s) left!')\n",
    "    elif guess == number:\n",
    "        print('CORRECT')\n",
    "        break\n",
    "    elif type(guess) != int:\n",
    "        print('Invalid Entry! Again')\n",
    "        i += 1\n",
    "else:\n",
    "    \n",
    "    print ('Game OVER') #try to distinguish between winnner and loser!\n",
    "    "
   ]
  },
  {
   "cell_type": "code",
   "execution_count": 1,
   "metadata": {},
   "outputs": [
    {
     "name": "stdout",
     "output_type": "stream",
     "text": [
      "Welcome to the arcade! Type help to see how it works start\n",
      "Car started...ready to go!\n",
      "what now? start\n",
      "Already in action\n",
      "what now? start\n",
      "Already in action\n",
      "what now? help\n",
      "\n",
      "        start - to start the car\n",
      "        stop - to start the car\n",
      "        quit - to start the car\n",
      "        \n",
      "what now? help\n",
      "Already in action\n",
      "what now? start\n",
      "Car started...ready to go!\n",
      "what now? stop\n",
      "Car stopped\n",
      "what now? stop\n",
      "Already in action\n",
      "what now? stop\n",
      "Already in action\n",
      "what now? quit\n",
      "Game Over\n"
     ]
    }
   ],
   "source": [
    "#Mini game\n",
    "\n",
    "\n",
    "ongoing = True\n",
    "command = input('Welcome to the arcade! Type help to see how it works ').lower()\n",
    "next_entry = ''\n",
    "while ongoing:\n",
    "            \n",
    "    if command == 'help' and command != next_entry: # awer ensures that capitel or lower letter is registered\n",
    "        print(\"\"\"\n",
    "        start - to start the car\n",
    "        stop - to start the car\n",
    "        quit - to start the car\n",
    "        \"\"\")\n",
    "    elif command == 'start' and command != next_entry:\n",
    "        print('Car started...ready to go!')\n",
    "    elif command == 'stop' and command != next_entry:\n",
    "        print('Car stopped')\n",
    "    elif command == 'quit':\n",
    "        print('Game Over')\n",
    "        break\n",
    "    elif command == next_entry:\n",
    "        print('Already in action')\n",
    "    else:\n",
    "        print(\"I don't understand\")\n",
    "    \n",
    "    next_entry = command\n",
    "    command = input('What now? '.lower())\n",
    "\n",
    "    \n",
    "    "
   ]
  },
  {
   "cell_type": "markdown",
   "metadata": {},
   "source": [
    "# for operator"
   ]
  },
  {
   "cell_type": "code",
   "execution_count": 2,
   "metadata": {},
   "outputs": [
    {
     "name": "stdout",
     "output_type": "stream",
     "text": [
      "P\n",
      "y\n",
      "t\n",
      "h\n",
      "o\n",
      "n\n"
     ]
    }
   ],
   "source": [
    "for item in 'Python':\n",
    "    print(item)"
   ]
  },
  {
   "cell_type": "code",
   "execution_count": 3,
   "metadata": {},
   "outputs": [
    {
     "name": "stdout",
     "output_type": "stream",
     "text": [
      "Mosh\n",
      "Josh\n",
      "Matt\n"
     ]
    }
   ],
   "source": [
    "for item in ['Mosh','Josh','Matt']:\n",
    "    print(item)"
   ]
  },
  {
   "cell_type": "code",
   "execution_count": 10,
   "metadata": {},
   "outputs": [
    {
     "name": "stdout",
     "output_type": "stream",
     "text": [
      "5\n",
      "7\n",
      "9\n"
     ]
    }
   ],
   "source": [
    "for item in range(5, 10, 2): #range (starting point, endpoint, intervall to skip)\n",
    "    print(item)"
   ]
  },
  {
   "cell_type": "code",
   "execution_count": 22,
   "metadata": {},
   "outputs": [
    {
     "name": "stdout",
     "output_type": "stream",
     "text": [
      "Total 60\n"
     ]
    }
   ],
   "source": [
    "price = [10, 20, 30] #add all the shit up\n",
    "\n",
    "index = 0\n",
    "\n",
    "for item in price:\n",
    "    index += item\n",
    "    \n",
    "print(f\"Total {index}\")\n"
   ]
  },
  {
   "cell_type": "markdown",
   "metadata": {},
   "source": [
    "## Nested Loops\n",
    "\n",
    "loops in loops"
   ]
  },
  {
   "cell_type": "code",
   "execution_count": 24,
   "metadata": {},
   "outputs": [
    {
     "name": "stdout",
     "output_type": "stream",
     "text": [
      "(0, 0)\n",
      "(0, 1)\n",
      "(0, 2)\n",
      "(1, 0)\n",
      "(1, 1)\n",
      "(1, 2)\n",
      "(2, 0)\n",
      "(2, 1)\n",
      "(2, 2)\n",
      "(3, 0)\n",
      "(3, 1)\n",
      "(3, 2)\n"
     ]
    }
   ],
   "source": [
    "for x in range(4):\n",
    "    for y in range (3):\n",
    "        print (f'({x}, {y})')\n"
   ]
  },
  {
   "cell_type": "code",
   "execution_count": 10,
   "metadata": {},
   "outputs": [
    {
     "name": "stdout",
     "output_type": "stream",
     "text": [
      "xxxxx\n",
      "xx\n",
      "xxxxx\n",
      "xx\n",
      "xx\n"
     ]
    }
   ],
   "source": [
    "numbers = [5,2,5,2,2]\n",
    "\n",
    "for strokes in numbers:\n",
    "    print(\"x\"*strokes)"
   ]
  },
  {
   "cell_type": "code",
   "execution_count": 17,
   "metadata": {},
   "outputs": [
    {
     "name": "stdout",
     "output_type": "stream",
     "text": [
      "xxxxx\n",
      "xx\n",
      "xxxxx\n",
      "xx\n",
      "xx\n"
     ]
    }
   ],
   "source": [
    "numbers = [5,2,5,2,2]\n",
    "for strokes in numbers:\n",
    "    counter = ''\n",
    "    for count in range(strokes):\n",
    "        counter += 'x'\n",
    "        \n",
    "    print(counter)\n"
   ]
  },
  {
   "cell_type": "code",
   "execution_count": 22,
   "metadata": {},
   "outputs": [
    {
     "name": "stdout",
     "output_type": "stream",
     "text": [
      "Mosh\n",
      "LALA\n",
      "['Mosh', 'Sarah', 'LALA']\n",
      "['Jon', 'Bob', 'Mosh', 'Sarah', 'LALA']\n"
     ]
    }
   ],
   "source": [
    "names = ['John', 'Bob', 'Mosh', 'Sarah', 'LALA']\n",
    "print(names[2])\n",
    "print(names[-1])\n",
    "print(names[2:]) #start from 2 till end\n",
    "names[0] = 'Jon'\n",
    "print(names)"
   ]
  },
  {
   "cell_type": "markdown",
   "metadata": {},
   "source": [
    "Write a program ot find the largest number in a list."
   ]
  },
  {
   "cell_type": "code",
   "execution_count": 36,
   "metadata": {},
   "outputs": [
    {
     "name": "stdout",
     "output_type": "stream",
     "text": [
      "[44 36 20 16 85]\n",
      "85\n"
     ]
    }
   ],
   "source": [
    "\n",
    "import numpy as np\n",
    "\n",
    "array = np.random.randint(1,100,5)\n",
    "print(array)\n",
    "i = 0\n",
    "max_number = array[0]\n",
    "for numbers in array:\n",
    "    if numbers > max_number:\n",
    "        max_number = numbers\n",
    "print(max_number)\n",
    "    "
   ]
  },
  {
   "cell_type": "markdown",
   "metadata": {},
   "source": [
    "## LISTS"
   ]
  },
  {
   "cell_type": "code",
   "execution_count": 42,
   "metadata": {},
   "outputs": [
    {
     "name": "stdout",
     "output_type": "stream",
     "text": [
      "[[1, 2, 3], [4, 5, 6], [7, 8, 9]]\n",
      "2\n",
      "30\n",
      "1\n",
      "30\n",
      "3\n",
      "4\n",
      "5\n",
      "6\n",
      "7\n",
      "8\n",
      "9\n"
     ]
    }
   ],
   "source": [
    "matrix=[[1,2,3],[4,5,6],[7,8,9]]\n",
    "print(matrix)\n",
    "print(matrix [0][1])\n",
    "matrix [0][1] = 30\n",
    "print(matrix [0][1])\n",
    "\n",
    "for row in matrix:\n",
    "    for value in row:\n",
    "        print(value)"
   ]
  },
  {
   "cell_type": "code",
   "execution_count": 58,
   "metadata": {},
   "outputs": [
    {
     "name": "stdout",
     "output_type": "stream",
     "text": [
      "[5, 2, 1, 7, 4, 20]\n",
      "[10, 5, 2, 1, 7, 4, 20]\n",
      "[10, 2, 1, 7, 4, 20]\n",
      "[10, 2, 1, 7, 4]\n",
      "0\n",
      "False\n",
      "1\n",
      "[]\n",
      "[7, 5, 4, 2, 1]\n",
      "[7, 5, 4, 2, 1]\n"
     ]
    }
   ],
   "source": [
    "#List methods\n",
    "\n",
    "numbers = [5,2,1,7,4]\n",
    "numbers.append(20) #add after last index\n",
    "print(numbers)\n",
    "numbers.insert(0, 10)  #puts number =10 in the designated position = 0 and pushes rest to the right +1\n",
    "print(numbers)\n",
    "numbers.remove(5) #removes specific number in list\n",
    "print(numbers)\n",
    "numbers.pop() #removes last item in the list\n",
    "print(numbers)\n",
    "print(numbers.index(10)) #checks for this index and gives back index postion, if not in the list we get error\n",
    "print(50 in numbers) #this is same as above but with boolean\n",
    "print(numbers.count(10))\n",
    "numbers.clear() #clears matrix\n",
    "print(numbers)\n",
    "\n",
    "## to sort\n",
    "\n",
    "numbers  = [5,2,1,7,4]\n",
    "numbers.sort() #always ascending order\n",
    "numbers.reverse() #makes \n",
    "numbers2 = numbers.copy()\n",
    "print(numbers2)\n",
    "print (numbers)"
   ]
  },
  {
   "cell_type": "code",
   "execution_count": 80,
   "metadata": {},
   "outputs": [
    {
     "name": "stdout",
     "output_type": "stream",
     "text": [
      "[1, 2, 3, 1, 5]\n",
      "[1, 2, 3, 5]\n",
      "1\n",
      "2\n"
     ]
    }
   ],
   "source": [
    "# exercise removing duplicate from a list\n",
    "\n",
    "list = [1, 2, 3, 1, 5]\n",
    "list2 = []\n",
    "\n",
    "for items in list:\n",
    "    if items not in list2:\n",
    "        list2.append(items)\n",
    "\n",
    "       \n",
    "print(list)\n",
    "print(list2)\n",
    "\n",
    "#tuples are not changeable\n",
    "\n",
    "numbers = (1,2,3)\n",
    "numbers [0]\n",
    "print(numbers[0])\n",
    "\n",
    "x,y,z = numbers # unpacking feature for lists and tuples, assigns index vlaue to variables\n",
    "print(y)\n",
    "    "
   ]
  },
  {
   "cell_type": "code",
   "execution_count": 86,
   "metadata": {},
   "outputs": [
    {
     "name": "stdout",
     "output_type": "stream",
     "text": [
      "Johnny\n"
     ]
    }
   ],
   "source": [
    "#doing dictionary\n",
    "\n",
    "dictionary = {\"name\": \"Johnny\", \"age\": 41, \"is_verified\": True}\n",
    "print(dictionary[\"name\"])"
   ]
  },
  {
   "cell_type": "code",
   "execution_count": 105,
   "metadata": {},
   "outputs": [
    {
     "name": "stdout",
     "output_type": "stream",
     "text": [
      "phone: 1234\n",
      "one\n",
      "two\n",
      "three\n",
      "four\n",
      "phone: 137513453\n",
      "one three ! ! one three four ! three \n"
     ]
    }
   ],
   "source": [
    "#EXERCISE. number to text, when input numbers, output = text\n",
    "\n",
    "numbers = {\"1\": \"one\", \"2\": \"two\", \"3\": \"three\", \"4\": \"four\"}\n",
    "phone = input(\"phone: \")\n",
    "list = [] #create a empty list\n",
    "for items in phone[:]: #string values\n",
    "    if items not in list: #create list with all the valiues inside\n",
    "        list.append(items)\n",
    "\n",
    "for content in list:\n",
    "    print(numbers[content])\n",
    "    \n",
    "#other guy did like this \n",
    "\n",
    "numbers = {\"1\": \"one\", \"2\": \"two\", \"3\": \"three\", \"4\": \"four\"}\n",
    "phone = input(\"phone: \")\n",
    "output=\"\"\n",
    "for items in phone: #string values\n",
    "    output += numbers.get(items,\"!\") + \" \"\n",
    "print(output)\n"
   ]
  }
 ],
 "metadata": {
  "kernelspec": {
   "display_name": "Python 3",
   "language": "python",
   "name": "python3"
  },
  "language_info": {
   "codemirror_mode": {
    "name": "ipython",
    "version": 3
   },
   "file_extension": ".py",
   "mimetype": "text/x-python",
   "name": "python",
   "nbconvert_exporter": "python",
   "pygments_lexer": "ipython3",
   "version": "3.7.3"
  }
 },
 "nbformat": 4,
 "nbformat_minor": 2
}
